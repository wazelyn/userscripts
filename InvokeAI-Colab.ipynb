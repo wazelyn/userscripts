{
  "nbformat": 4,
  "nbformat_minor": 0,
  "metadata": {
    "colab": {
      "private_outputs": true,
      "provenance": [],
      "gpuType": "T4",
      "cell_execution_strategy": "setup",
      "include_colab_link": true
    },
    "kernelspec": {
      "name": "python3",
      "display_name": "Python 3"
    },
    "language_info": {
      "name": "python"
    },
    "accelerator": "GPU"
  },
  "cells": [
    {
      "cell_type": "markdown",
      "metadata": {
        "id": "view-in-github",
        "colab_type": "text"
      },
      "source": [
        "<a href=\"https://colab.research.google.com/github/wazelyn/userscripts/blob/master/InvokeAI-Colab.ipynb\" target=\"_parent\"><img src=\"https://colab.research.google.com/assets/colab-badge.svg\" alt=\"Open In Colab\"/></a>"
      ]
    },
    {
      "cell_type": "markdown",
      "source": [
        "# **InvokeAI - Barren Wardo**\n",
        "> Note: Probably will only work on Paid Colab.\n",
        "\n",
        "### How to start?\n",
        "1.   Run Setup Cell\n",
        "2.   Run Launcher\n",
        "\n",
        "Enjoy! ❤️\n",
        "\n",
        "---"
      ],
      "metadata": {
        "id": "Jf5Qqv3WH65d"
      }
    },
    {
      "cell_type": "markdown",
      "source": [
        "## **Setup**\n",
        "> Note :\n",
        "> 1. When prompted, click \"Restart\".\n",
        "> 2. Remove # in the 2nd last line to use beta version of InvokeAI."
      ],
      "metadata": {
        "id": "2RAn3k9GIEDp"
      }
    },
    {
      "cell_type": "code",
      "source": [
        "!mkdir /content/invokeai\n",
        "\n",
        "!sudo apt update && apt install python3.10-venv\n",
        "!python -m venv .venv --prompt InvokeAI\n",
        "!source .venv/bin/activate\n",
        "\n",
        "!sudo apt install -y libglib2.0-0 libgl1-mesa-glx\n",
        "\n",
        "!sudo apt install -y build-essential\n",
        "!sudo apt install -y python3-opencv libopencv-dev\n",
        "\n",
        "!pip install \"InvokeAI[xformers]\" --use-pep517 --extra-index-url https://download.pytorch.org/whl/cu121 #--pre\n",
        "!npm install -g localtunnel\n",
        "!wget https://github.com/cloudflare/cloudflared/releases/latest/download/cloudflared-linux-amd64.deb\n",
        "!dpkg -i cloudflared-linux-amd64.deb"
      ],
      "metadata": {
        "id": "AooWt85nHkk9"
      },
      "execution_count": null,
      "outputs": []
    },
    {
      "cell_type": "markdown",
      "source": [
        "## **Launch InvokeAI**"
      ],
      "metadata": {
        "id": "ILOHYso_IX1h"
      }
    },
    {
      "cell_type": "markdown",
      "source": [
        "### **LocalTunnel**\n",
        "> Note : Copy the password IP then go to the mentioned url & paste it there."
      ],
      "metadata": {
        "id": "GsW7TxOoUmwH"
      }
    },
    {
      "cell_type": "code",
      "source": [
        "import subprocess\n",
        "import threading\n",
        "import time\n",
        "import socket\n",
        "import urllib.request\n",
        "\n",
        "def iframe_thread(port):\n",
        "    while True:\n",
        "        time.sleep(0.5)\n",
        "        sock = socket.socket(socket.AF_INET, socket.SOCK_STREAM)\n",
        "        result = sock.connect_ex(('127.0.0.1', port))\n",
        "        if result == 0:\n",
        "            sock.close()\n",
        "            break\n",
        "        sock.close()\n",
        "\n",
        "    print(\"\\nInvokeAI finished loading, trying to launch localtunnel (if it gets stuck here, localtunnel may have issues)\\n\")\n",
        "    print(\"The password/endpoint IP for localtunnel is:\", urllib.request.urlopen('https://ipv4.icanhazip.com').read().decode('utf8').strip(\"\\n\"))\n",
        "\n",
        "    p = subprocess.Popen([\"lt\", \"--port\", str(port)], stdout=subprocess.PIPE)\n",
        "    for line in p.stdout:\n",
        "        print(line.decode(), end='')\n",
        "\n",
        "threading.Thread(target=iframe_thread, args=(9090,), daemon=True).start()\n",
        "\n",
        "!invokeai-web --root /content/invokeai"
      ],
      "metadata": {
        "id": "vD9neRmLH1kU"
      },
      "execution_count": null,
      "outputs": []
    },
    {
      "cell_type": "markdown",
      "source": [
        "### **Cloudflare**"
      ],
      "metadata": {
        "id": "wopcY3PfU_ms"
      }
    },
    {
      "cell_type": "code",
      "source": [
        "import subprocess\n",
        "import threading\n",
        "import time\n",
        "import socket\n",
        "import urllib.request\n",
        "\n",
        "def iframe_thread(port):\n",
        "  while True:\n",
        "      time.sleep(0.5)\n",
        "      sock = socket.socket(socket.AF_INET, socket.SOCK_STREAM)\n",
        "      result = sock.connect_ex(('127.0.0.1', port))\n",
        "      if result == 0:\n",
        "        break\n",
        "      sock.close()\n",
        "  print(\"\\nInvokeAI finished loading, trying to launch cloudflared (if it gets stuck here cloudflared is having issues)\\n\")\n",
        "\n",
        "  p = subprocess.Popen([\"cloudflared\", \"tunnel\", \"--url\", \"http://127.0.0.1:{}\".format(port)], stdout=subprocess.PIPE, stderr=subprocess.PIPE)\n",
        "  for line in p.stderr:\n",
        "    l = line.decode()\n",
        "    if \"trycloudflare.com \" in l:\n",
        "      print(\"This is the URL to access InvokeAI:\", l[l.find(\"http\"):], end='')\n",
        "\n",
        "threading.Thread(target=iframe_thread, daemon=True, args=(9090,)).start()\n",
        "\n",
        "!invokeai-web --root /content/invokeai"
      ],
      "metadata": {
        "id": "ZUYWj8yDUaTg"
      },
      "execution_count": null,
      "outputs": []
    }
  ]
}